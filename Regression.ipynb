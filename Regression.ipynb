{
 "cells": [
  {
   "cell_type": "code",
   "execution_count": 65,
   "metadata": {},
   "outputs": [],
   "source": [
    "import pandas as pd\n",
    "import numpy as np\n",
    "import matplotlib.pyplot as plt\n",
    "from sklearn.linear_model import LinearRegression\n",
    "from sklearn.metrics import mean_squared_error, r2_score\n",
    "from sklearn.model_selection import train_test_split"
   ]
  },
  {
   "cell_type": "raw",
   "metadata": {},
   "source": [
    "Reading the file"
   ]
  },
  {
   "cell_type": "code",
   "execution_count": 2,
   "metadata": {},
   "outputs": [],
   "source": [
    "datafile=pd.read_csv(r\"C:\\Users\\Dell\\Downloads\\car_age_price1.csv\")"
   ]
  },
  {
   "cell_type": "code",
   "execution_count": 32,
   "metadata": {
    "scrolled": true
   },
   "outputs": [
    {
     "data": {
      "text/plain": [
       "0      2018\n",
       "1      2019\n",
       "2      2019\n",
       "3      2018\n",
       "4      2018\n",
       "5      2015\n",
       "6      2016\n",
       "7      2017\n",
       "8      2017\n",
       "9      2017\n",
       "10     2019\n",
       "11     2018\n",
       "12     2017\n",
       "13     2019\n",
       "14     2017\n",
       "15     2017\n",
       "16     2017\n",
       "17     2017\n",
       "18     2019\n",
       "19     2017\n",
       "20     2018\n",
       "21     2019\n",
       "22     2015\n",
       "23     2017\n",
       "24     2017\n",
       "25     2017\n",
       "26     2017\n",
       "27     2017\n",
       "28     2017\n",
       "29     2017\n",
       "       ... \n",
       "82     2015\n",
       "83     2017\n",
       "84     2015\n",
       "85     2015\n",
       "86     2017\n",
       "87     2017\n",
       "88     2017\n",
       "89     2017\n",
       "90     2017\n",
       "91     2017\n",
       "92     2017\n",
       "93     2017\n",
       "94     2017\n",
       "95     2017\n",
       "96     2017\n",
       "97     2020\n",
       "98     2020\n",
       "99     2020\n",
       "100    2016\n",
       "101    2015\n",
       "102    2015\n",
       "103    2017\n",
       "104    2014\n",
       "105    2014\n",
       "106    2015\n",
       "107    2016\n",
       "108    2014\n",
       "109    2015\n",
       "110    2016\n",
       "111    2015\n",
       "Name: Year, Length: 112, dtype: int64"
      ]
     },
     "execution_count": 32,
     "metadata": {},
     "output_type": "execute_result"
    }
   ],
   "source": [
    " datafile['Year']"
   ]
  },
  {
   "cell_type": "code",
   "execution_count": 55,
   "metadata": {},
   "outputs": [],
   "source": [
    "x=datafile[['Year']]\n",
    "y=datafile[['Price']]"
   ]
  },
  {
   "cell_type": "code",
   "execution_count": 56,
   "metadata": {},
   "outputs": [],
   "source": [
    "test=np.array([[2022]])"
   ]
  },
  {
   "cell_type": "code",
   "execution_count": 53,
   "metadata": {},
   "outputs": [
    {
     "data": {
      "text/plain": [
       "(1, 1)"
      ]
     },
     "execution_count": 53,
     "metadata": {},
     "output_type": "execute_result"
    }
   ],
   "source": [
    "test.shape"
   ]
  },
  {
   "cell_type": "code",
   "execution_count": 97,
   "metadata": {},
   "outputs": [],
   "source": [
    "regression_model = LinearRegression()\n",
    "# train the model\n",
    "regression_model.fit(x,y)\n",
    "# Predict the test data 2022 \n",
    "y_predicted = regression_model.predict(test)\n",
    "y_pred=regression_model.predict(x)\n",
    "# model evaluation with root mean square error and r2 value\n",
    "rmse1 = mean_squared_error(y, y_pred)\n",
    "r2_1 = r2_score(y, y_pred)"
   ]
  },
  {
   "cell_type": "code",
   "execution_count": 98,
   "metadata": {
    "scrolled": true
   },
   "outputs": [
    {
     "data": {
      "text/plain": [
       "array([[715488.07850976]])"
      ]
     },
     "execution_count": 98,
     "metadata": {},
     "output_type": "execute_result"
    }
   ],
   "source": [
    "#the price predicted for 2022\n",
    "y_predicted"
   ]
  },
  {
   "cell_type": "code",
   "execution_count": 100,
   "metadata": {
    "scrolled": true
   },
   "outputs": [
    {
     "name": "stdout",
     "output_type": "stream",
     "text": [
      "3276721166.5638003\n",
      "60.26450104600283\n"
     ]
    }
   ],
   "source": [
    "print(rmse1)\n",
    "print(r2_1*100)"
   ]
  },
  {
   "cell_type": "markdown",
   "metadata": {},
   "source": [
    "Using Lasso Regression"
   ]
  },
  {
   "cell_type": "code",
   "execution_count": 80,
   "metadata": {},
   "outputs": [],
   "source": [
    "from sklearn.model_selection import cross_val_score\n",
    "from sklearn.model_selection import RepeatedKFold\n",
    "from sklearn.linear_model import Lasso\n",
    "from numpy import absolute,mean,std"
   ]
  },
  {
   "cell_type": "code",
   "execution_count": 101,
   "metadata": {
    "scrolled": true
   },
   "outputs": [],
   "source": [
    "model = Lasso(alpha=1.0)\n",
    "model.fit(x,y)\n",
    "y_predict1 = model.predict(test)\n",
    "y_pred2=model.predict(x)\n",
    "rmse = mean_squared_error(y,y_pred2)\n",
    "r2 = r2_score(y, y_pred2)"
   ]
  },
  {
   "cell_type": "code",
   "execution_count": 95,
   "metadata": {},
   "outputs": [
    {
     "data": {
      "text/plain": [
       "array([715486.05324851])"
      ]
     },
     "execution_count": 95,
     "metadata": {},
     "output_type": "execute_result"
    }
   ],
   "source": [
    "y_predict1"
   ]
  },
  {
   "cell_type": "code",
   "execution_count": 102,
   "metadata": {},
   "outputs": [
    {
     "name": "stdout",
     "output_type": "stream",
     "text": [
      "3276721166.94374\n",
      "60.26450104139545\n"
     ]
    }
   ],
   "source": [
    "print(rmse)\n",
    "print(r2*100)"
   ]
  },
  {
   "cell_type": "code",
   "execution_count": null,
   "metadata": {},
   "outputs": [],
   "source": []
  }
 ],
 "metadata": {
  "kernelspec": {
   "display_name": "Python 3",
   "language": "python",
   "name": "python3"
  },
  "language_info": {
   "codemirror_mode": {
    "name": "ipython",
    "version": 3
   },
   "file_extension": ".py",
   "mimetype": "text/x-python",
   "name": "python",
   "nbconvert_exporter": "python",
   "pygments_lexer": "ipython3",
   "version": "3.7.3"
  }
 },
 "nbformat": 4,
 "nbformat_minor": 2
}
